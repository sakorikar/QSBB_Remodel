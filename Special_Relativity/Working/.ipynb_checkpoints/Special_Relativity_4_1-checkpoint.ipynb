{
 "cells": [
  {
   "cell_type": "markdown",
   "id": "fef37c2a-0590-4b05-befb-b4c0d230a12d",
   "metadata": {},
   "source": [
    "# Lesson 18 - Special Relativity, 4"
   ]
  },
  {
   "cell_type": "markdown",
   "id": "f77a36b3-f413-4174-8449-027e923378a4",
   "metadata": {},
   "source": [
    "## Section 1: *Einstein's Mass and Energy*\n",
    "\n",
    "Here we go. The T-shirt equation. Nothing is the same after this fourth of Einstein's 1905 papers...that one that said $m=\\frac{E}{c^2}$. We'll develop it without calculus (although if you want to see a full derivation, it's included for those with that background). Energy now simplifies! Mass becomes interesting! Particle collisions become understandable! Matter gets made! And I get my white board on the Big Bang Theory!"
   ]
  },
  {
   "cell_type": "markdown",
   "id": "65d91b7a-52f1-45c3-8ce4-21f19e24a05f",
   "metadata": {},
   "source": [
    "## Section 2: *A Little Bit of Minkowski*"
   ]
  },
  {
   "cell_type": "markdown",
   "id": "51ff24e8",
   "metadata": {},
   "source": [
    "<img align=\"left\" src=\"./../_images/relativity/minkowskiold.png\" width= 25%/>"
   ]
  },
  {
   "cell_type": "markdown",
   "id": "3177f5a4",
   "metadata": {},
   "source": [
    "> \"It came as a tremendous surprise, for in his student days Einstein had been a lazy dog... He never bothered about mathematics at all.\"\n",
    "\n",
    "The story of Hermann Minkowski is both engaging and sad. He grew up in Königsberg, Germany after some time in Russia, to a middle-class business family. His mathematical skills were apparent in high school and he entered the University of Königsberg where he stayed through his PhD degree, winning a prestigious prize at the age of 17 for a solution to a challenge problem issued in European mathematics. Mathematicians like to do that sort of thing.\n",
    "\n",
    "In 1887 he was recruited to the University of Bonn where he taught for seven years and returned to his alma mater, the University of Königsberg, where he stayed for two years before he was appointed the chair of mathematical physics at Eidgenössische Polytechnikum Zürich in 1894. He married in 1897 and had two daughters, the second in 1902."
   ]
  },
  {
   "cell_type": "markdown",
   "id": "1c2fada9",
   "metadata": {},
   "source": [
    "> Hermann Minkowski during the last year of his life. ## Note to self: ask about image"
   ]
  },
  {
   "cell_type": "markdown",
   "id": "e926e0a2",
   "metadata": {},
   "source": [
    "That was a big year for him professionally as well as David Hilbert created a chair for Minkowski at the Center of European Mathematics at the University of Göttingen. It was there that he developed the ideas of space and time that outlived him and set the path for a firm foundation of Special Relativity and motivated the approach to the General Theory of Relativity. This mathematization of physics was not originally welcome to Einstein, but he grew to embrace it. In fact, in some ways it was Minkowski's style and his skill that changed the relation of physics and mathematics to the present day.\n",
    "\n",
    "> Morris Kine in a review wrote, \"A key point of the [Minkowski] paper is the difference in approach to physical problems taken by mathematical physicists as opposed to theoretical physicists. In a paper published in 1908 Minkowski reformulated Einstein's 1905 paper by introducing the four-dimensional (space-time*) non-Euclidean geometry, a step which Einstein did not think much of at the time. But more important is the attitude or philosophy that Minkowski, Hilbert, Klein, and Weyl pursued, namely, that purely mathematical considerations, including harmony and elegance of ideas, should dominate in embracing new physical facts. <em> Mathematics so to speak was to be master and physical theory could be made to bow to the master. </em> [my emphasis] Put otherwise, theoretical physics was a subdomain of mathematical physics, which in turn was a sub-discipline of pure mathematics.\"\n",
    "\n",
    "That Minkowski embraced the implications of Special Relativity is a delicious irony as he was Einstein's mathematics professor in Zurich and his opinion of him was right in line with that of the other faculty:\n",
    "\n",
    "> \"Oh, that Einstein, always cutting lectures... I really would not believe him capable of it.\"\n",
    "\n",
    "It was Minkowski who merged space and time into a single \"Spacetime\" continuum – a mathematical space, but importantly, a model of how the universe is really stitched together. That's the \"Spacetime\" in Quarks, Spacetime, and the Big Bang. Below we'll visit some of \"Minkowski Space\" and here's a preview from his notes. Remember the plot at the top."
   ]
  },
  {
   "cell_type": "markdown",
   "id": "cd1b5de1",
   "metadata": {},
   "source": [
    "<img align=\"left\" src=\"./../_images/relativity/minkowskispace.png\" width= 80%/>"
   ]
  },
  {
   "cell_type": "markdown",
   "id": "225892e4",
   "metadata": {},
   "source": [
    "This work he did in 1908. While it was well-received, it was a semi-popular lecture that he gave that was the stimulus to many to take Relativity seriously. Ask Mr Google about \"views of space and time\" and he'll reward you with 3.5 billion hits:\n",
    "\n",
    "> \"The views of space and time which I wish to lay before you have sprung from the soil of experimental physics, and therein lies their strength. They are radical. Henceforth, space by itself, and time by itself, are doomed to fade away into mere shadows, and only a kind of union of the two will preserve an independent reality.\"\n",
    "\n",
    "To the shock of the community and dismay to his many friends around the world, Minkowski died suddenly at the age of 44 due to a ruptured appendix."
   ]
  },
  {
   "cell_type": "markdown",
   "id": "ec11b287",
   "metadata": {},
   "source": [
    "## Section 3: *Working Our Way toward Relativistic Energy*"
   ]
  },
  {
   "cell_type": "markdown",
   "id": "58e50f7f",
   "metadata": {},
   "source": [
    "At the end of the last lesson, we crept up on the notion that the speed of an object being pushed at a constant value changes, but not linearly, so that it never exceeds the speed of light. Here's a cartoonish sketch of that summarizes what seems to be going on.\n",
    "\n",
    "What we had is a constant force pushing on a mass, creating a momentum, and so a speed."
   ]
  },
  {
   "cell_type": "markdown",
   "id": "ed9798c6",
   "metadata": {},
   "source": [
    "<img align=\"left\" src=\"./../_images/relativity/block_limited.png\" width= 70%/>"
   ]
  },
  {
   "cell_type": "markdown",
   "id": "f649935a",
   "metadata": {},
   "source": [
    "Now, let's compare the Newtonian experience (rather, assumptions) with the relativistic experience."
   ]
  },
  {
   "cell_type": "markdown",
   "id": "3b8952c7",
   "metadata": {},
   "source": [
    "<img align=\"left\" src=\"./../_images/relativity/limited.png\" width= 70%/>"
   ]
  },
  {
   "cell_type": "markdown",
   "id": "c8fa69e6",
   "metadata": {},
   "source": [
    "In (a) we have the Newtonian notion of a fixed mass and an unlimited speed and so an unlimited momentum. In (b) we have the relativistic situation in which we know that the speed is limited and there's no limitation on the momentum. So how does that happen? The mass must be unlimited. Not constant, as in the Newtonian definition."
   ]
  },
  {
   "cell_type": "markdown",
   "id": "151282a0",
   "metadata": {},
   "source": [
    "<img align=\"left\" src=\"./../_images/relativity/screenshot_2224.png\" width= 60%/>"
   ]
  },
  {
   "cell_type": "markdown",
   "id": "89db374e",
   "metadata": {},
   "source": [
    "Mass is going to become a very strange thing.\n",
    "\n",
    "> Remember that mass for Newton was problematic. It was a definition that was circularly defined in terms of density. How you measure it presumes that you know how to measure acceleration and force...without the mass. Circular. Relativity is the opening salvo against the naive notion of mass from Newton and we'll see that with the Higgs Boson discovery in 2012, our ideas of mass changed again...to be even more strange."
   ]
  },
  {
   "cell_type": "markdown",
   "id": "b648e700",
   "metadata": {},
   "source": [
    "## Section 4: *Relativistic Momentum*"
   ]
  },
  {
   "cell_type": "markdown",
   "id": "c9930dd3",
   "metadata": {},
   "source": [
    "Momentum is still:\n",
    "\n",
    "$$ p = m\\times \\frac{\\text{a change in distance}}{\\text{a change in time}} = m \\frac{\\Delta x_H}{\\Delta t_H} \\nonumber $$\n",
    "\n",
    "But by now you know the song: that numerator and denominator depend on the frame and so a new kind of momentum – relativistic momentum – is required. I'll just state it here:\n",
    "\n",
    "$$ p = m\\gamma u $$\n",
    "\n",
    "Looks familiar, but there's the $\\gamma$ function, which tends towards $1$ when $u$ is very small, so we get back \"regular\" momentum."
   ]
  },
  {
   "cell_type": "markdown",
   "id": "90a649c3",
   "metadata": {},
   "source": [
    "## Section 5: *An Einstein Thought Experiment*"
   ]
  },
  {
   "cell_type": "markdown",
   "id": "b8453c0c",
   "metadata": {},
   "source": [
    "Let's follow one of Einstein's typically imaginative thought experiments that he suggested in his original 1905 fourth paper. The T-shirt equation paper. In order to appreciate it, I need to tell you something that he postulated in his first 1905 paper that was on light quanta – that light consists of little particles that he called \"quanta\" and which were named \"photons\" in 1925 by someone else. The thing that we need from this idea (which we will talk about a lot later) is that these little particles carry momentum.\n",
    "\n",
    "So inside a box is a source of light (photons) at the left and an absorber of photons on the right. We start with the box sitting still, minding its own business."
   ]
  },
  {
   "cell_type": "markdown",
   "id": "e5c97ef5",
   "metadata": {},
   "source": [
    "<img align=\"left\" src=\"./../_images/relativity/box1.png\" width= 90%/>"
   ]
  },
  {
   "cell_type": "markdown",
   "id": "831bde03",
   "metadata": {},
   "source": [
    "Now the bulb is turned on and light begins to stream away from it, that is, photons carry momentum to the right."
   ]
  },
  {
   "cell_type": "markdown",
   "id": "52d3ea84",
   "metadata": {},
   "source": [
    "<img align=\"left\" src=\"./_images/relativity/box2.png\" width= 90%/>"
   ]
  },
  {
   "cell_type": "markdown",
   "id": "6841d485",
   "metadata": {},
   "source": [
    "So momentum is now imbalanced to the right, unless the box itself moves to the left with the same, but oppositely directed value of momentum. It recoils.\n",
    "\n",
    "So from the outside, you see this box suddenly begin to lurch to the left! Then, when the photons strike the absorber on the right-hand side of the box (perfectly absorbing so that there's no reflection)...the box suddenly stops!"
   ]
  },
  {
   "cell_type": "markdown",
   "id": "0dd05575",
   "metadata": {},
   "source": [
    "<img align=\"left\" src=\"./../_images/relativity/box3.png\" width= 90%/>"
   ]
  },
  {
   "cell_type": "markdown",
   "id": "554c1ed4",
   "metadata": {},
   "source": [
    "Einstein analyzed this event and showed that the center of mass of the box rearranged itself and that therefore the photon has to behave as if it has a mass.\n",
    "\n",
    "Seriously. In the first paper (and every other paper anyone has written since!) the photon is an object with zero mass. And yet, this simple head-experiment concludes that the light has an energy – even Maxwell knew about electromagnetic waves carrying energy. But since light has momentum, we must interpret the situation to suggest that the photon's energy leads to a second conclusion that suggest that energy is mass-like. That's a lot to swallow."
   ]
  },
  {
   "cell_type": "markdown",
   "id": "696c77bb",
   "metadata": {},
   "source": [
    "## Section 6: *Approximating Functions*"
   ]
  },
  {
   "cell_type": "markdown",
   "id": "8f144a32",
   "metadata": {},
   "source": [
    "There are a number of ways to get to the T-shirt equation and most require calculus which I'll not do in QS&BB. I want to sneak up on it with a plausibility argument, rather than a direct proof. In \\@ref(#lessonmath) I introduced the notion of approximating a function's shape by successively adding together a string of functions, each one getting you closer and closer to the full function. This was Newton's idea. What I did in that lesson was look at the function\n",
    "\n",
    "$$f(x) = \\frac{1}{1-x}$$\n",
    "\n",
    "and showed it can be represented as the series\n",
    "\n",
    "$$f(x) = \\frac{1}{1-x} = 1 + x + x^2 + x^3 + \\ldots$$\n",
    "\n",
    "the dot-dot-dot means that this progression continues to an infinite number of terms and that when you add them all up you get back $\\frac{1}{1-x}.$ Almost magical.\n",
    "\n",
    "Here's what that looks like:"
   ]
  },
  {
   "cell_type": "markdown",
   "id": "92fa04da",
   "metadata": {},
   "source": [
    "<img align=\"left\" src=\"./../_images/relativity/binom_ex.png\" width= 90%/>"
   ]
  },
  {
   "cell_type": "markdown",
   "id": "fc54efbe",
   "metadata": {},
   "source": [
    "Notice a couple of things. First, the full function is the top, bold red curve. Second, notice that each curve in the series does indeed get closer and closer to the desired function. It's going to take a lot of them to get there – an infinite number of them.\n",
    "\n",
    "### ✏ PENCILS OUT!\n",
    "\n",
    "Finally, notice that for small x, say below $x = 0.2,$ the first two terms, $1 + x$ do a pretty good job. So, in practical terms, if you're sure that your $x$'s are going to be less than that value, you don't have to use the whole function; you can get by with just $1 + x.$\n",
    "\n",
    "So, with that reminder... we have a function that's in every relativistic equation, namely $\\gamma :$\n",
    "\n",
    "$$\\gamma = \\frac{1}{1 - \\beta ^2}$$\n",
    "\n",
    "and maybe you know where I'm going. We can indeed express this function in an infinite series and it would be:\n",
    "\n",
    "$$\\gamma = \\frac{1}{1 - \\beta ^2} = 1 + \\frac{\\beta ^2}{2} + \\frac{3 \\beta ^4}{8} + \\frac{5 \\beta^6}{16} + \\ldots$$\n",
    "\n",
    "Here it is plotted:"
   ]
  },
  {
   "cell_type": "markdown",
   "id": "3ccca819",
   "metadata": {},
   "source": [
    "<img align=\"left\" src=\"./../_images/relativity/binom_gamma.png\" width= 90%/>"
   ]
  },
  {
   "cell_type": "markdown",
   "id": "d6cb7efa",
   "metadata": {},
   "source": [
    "where I've emphasized only the first two terms. Again, if we are only interested in very low $\\gamma$'s we can get away with just the first couple of terms and we've done a pretty good job of approximating the whole relativistic gamma function. Knowing that \"regular life\" is pretty Newtonian, that part of the gamma function should do a pretty good job for barely relativistic situations."
   ]
  },
  {
   "cell_type": "markdown",
   "id": "135667de",
   "metadata": {},
   "source": [
    "## Section 7: *Einstein's Energy Equation, Through the Back Door*"
   ]
  },
  {
   "cell_type": "markdown",
   "id": "9bbfe8a8",
   "metadata": {},
   "source": [
    "Let's play with that term now and see if we can gain some insight.\n",
    "\n",
    "<div class=\"alert alert-block alert-warning\">\n",
    "    <b>Example:</b> \n",
    "    Use yellow boxes for examples that are not inside code cells, or use for mathematical formulas if needed. Typically also used to display warning messages.</div>\n",
    "    \n",
    "'''{note}\n",
    "Use yellow boxes for examples that are not inside code cells, or use for mathematical formulas if needed. Typically also used to display warning messages.\n",
    "'''\n",
    "\n",
    "This is a pencil-out activity. Look at the first two terms in the $\\gamma$ expansion:\n",
    "\n",
    "$$\\gamma \\approx 1 + \\beta^2$$\n",
    "\n",
    "$$\\gamma = 1 + \\frac{1}{2} \\frac{u^2}{x^2}$$\n",
    "\n",
    "Look at the second term. This is really suspiciously like the classical kinetic energy form, $K = \\frac{1}{2} mv^2,$ right? Let's run with this and see what happens. In order to nudge it along, let's multiply by $m$ and by $c^2$. That would do it, right?\n",
    "\n",
    "$$\\gamma = 1 + \\frac{1}{2} \\frac{u^2}{x^2}$$\n",
    "\n",
    "$$mc^2 \\gamma = mc^2 + mc^2 \\frac{1}{2} \\frac{u^2}{x^2}$$\n",
    "\n",
    "$$m \\gamma c^2 = mc^2 + \\frac{1}{2}mu^2$$\n",
    "\n",
    "By now we're used to the idea that slow objects' modeling are an approximation to the complete relativistic objects' form. We're obviously in a slow-ish format here by keeping only the first two terms of the $\\gamma$ function. So we isolated the \"regular\" kinetic energy piece on the right and so we also know that *whatever is left in the other two terms are also energy terms:*\n",
    "\n",
    "- $m \\gamma c^2$ is some kind of energy\n",
    "- $mc^2$ is another kind of energy\n",
    "- $\\frac{1}{2}mu^2$ is the familiar kind of energy of motion, kinetic energy\n",
    "\n",
    "This is a fundamental change in how we think about energy. What we've created through the back door is a new kind of energy:\n",
    "\n",
    "- Total energy of an object = its energy of mass + its energy of motion\n",
    "\n",
    "Even if the object were not moving, *it would still have energy in this picture.* In fact, all of energy can be described by this little formula - potential energy, chemical energy, nuclear energy, electromagnetic radiation energy, the whole shebang energy.\n",
    "\n",
    "Here's our accounting:\n",
    "\n",
    "- $E_T =$ total energy of an object = $m \\gamma c^2,$ first formulation\n",
    "- $E_m$ = mass energy of an object = $mc^2$\n",
    "\n",
    "The T-shirt equation:"
   ]
  },
  {
   "cell_type": "markdown",
   "id": "33a5986d",
   "metadata": {},
   "source": [
    "<img align=\"left\" src=\"./../_images/relativity/t-shirt.png\" width= 90%/>"
   ]
  },
  {
   "cell_type": "markdown",
   "id": "4c9b93ce",
   "metadata": {},
   "source": [
    "I've left out the kinetic energy here because my back door approach to this was for non-relativistic motion, so our original $\\frac{1}{2}mu^2$ term was relevant. But the fully relativistic kinetic energy is different and we can simply derive its form from what we've got by generally calling it \"$K$.\"\n",
    "\n",
    "$$E_T = E_m + K$$\n",
    "\n",
    "$$K = E_T - E_m$$\n",
    "\n",
    "$$K = m \\gamma c^2 - mc^2$$\n",
    "\n",
    "$$K = mc^2 (\\gamma - 1)$$\n",
    "\n",
    "So our inventory is:\n",
    "\n",
    "- $E_T =$ total energy of an object = $m \\gamma c^2,$ first formulation\n",
    "- $E_m$ = mass energy of an object = $mc^2$\n",
    "- $K$ = energy of motion = $mc^2 (\\gamma - 1)$\n",
    "- $p = m \\gamma u$ = relativistic momentum"
   ]
  },
  {
   "cell_type": "markdown",
   "id": "9fc79964",
   "metadata": {},
   "source": [
    "% Note: add Derivation of energy relation things"
   ]
  },
  {
   "cell_type": "markdown",
   "id": "4a2f6bed",
   "metadata": {},
   "source": [
    "With a little bit of algebra, we can write our second form of the total energy:\n",
    "\n",
    "$$E_T ^2 = (mc^2)^2 + (pc)^2$$\n",
    "\n",
    "and we can understand Einstein's little game of the box with the light."
   ]
  },
  {
   "cell_type": "markdown",
   "id": "3402cf87",
   "metadata": {},
   "source": [
    "Note: <a href=\"./examples/relativity/Total_E_1_R4_E1.html\" target=\"_blank\">derivation of the total energy</a>"
   ]
  },
  {
   "cell_type": "markdown",
   "id": "198ef264",
   "metadata": {},
   "source": [
    "$$E_T ^2 = (mc^2)^2 + (pc)^2 \\label{eq: 1}$$"
   ]
  }
 ],
 "metadata": {
  "kernelspec": {
   "display_name": "Python 3",
   "language": "python",
   "name": "python3"
  },
  "language_info": {
   "codemirror_mode": {
    "name": "ipython",
    "version": 3
   },
   "file_extension": ".py",
   "mimetype": "text/x-python",
   "name": "python",
   "nbconvert_exporter": "python",
   "pygments_lexer": "ipython3",
   "version": "3.8.11"
  }
 },
 "nbformat": 4,
 "nbformat_minor": 5
}
